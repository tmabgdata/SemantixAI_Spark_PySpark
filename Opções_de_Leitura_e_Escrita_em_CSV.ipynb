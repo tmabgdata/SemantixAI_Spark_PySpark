{
 "cells": [
  {
   "cell_type": "markdown",
   "metadata": {},
   "source": [
    "### Criação de DataFrame"
   ]
  },
  {
   "cell_type": "code",
   "execution_count": 1,
   "metadata": {},
   "outputs": [],
   "source": [
    "from pyspark.sql import Row"
   ]
  },
  {
   "cell_type": "code",
   "execution_count": 11,
   "metadata": {
    "scrolled": true
   },
   "outputs": [
    {
     "name": "stdout",
     "output_type": "stream",
     "text": [
      "root\n",
      " |-- cod: long (nullable = true)\n",
      " |-- nome: string (nullable = true)\n",
      "\n",
      "None\n",
      "+---+------+\n",
      "|cod|  nome|\n",
      "+---+------+\n",
      "|  1|Thiago|\n",
      "|  2| Alves|\n",
      "+---+------+\n",
      "\n"
     ]
    }
   ],
   "source": [
    "Name = Row(\"cod\", \"nome\")\n",
    "data = [Name(1, \"Thiago\"), Name(2, \"Alves\")]\n",
    "data_frame = spark.createDataFrame(data)\n",
    "print(data_frame.printSchema())\n",
    "data_frame.show()\n",
    "data_frame.write.csv(\"/user/thiago/teste_csv\", mode = \"overwrite\", header = True)"
   ]
  },
  {
   "cell_type": "markdown",
   "metadata": {},
   "source": [
    "### Leitura dos Dados"
   ]
  },
  {
   "cell_type": "code",
   "execution_count": 13,
   "metadata": {},
   "outputs": [
    {
     "name": "stdout",
     "output_type": "stream",
     "text": [
      "+---+------+\n",
      "|cod|  nome|\n",
      "+---+------+\n",
      "|  1|Thiago|\n",
      "|  2| Alves|\n",
      "+---+------+\n",
      "\n"
     ]
    }
   ],
   "source": [
    "spark.read.csv(\"/user/thiago/teste_csv\", header = \"true\").show()"
   ]
  },
  {
   "cell_type": "code",
   "execution_count": null,
   "metadata": {},
   "outputs": [],
   "source": []
  }
 ],
 "metadata": {
  "kernelspec": {
   "display_name": "PySpark",
   "language": "python",
   "name": "pyspark"
  },
  "language_info": {
   "codemirror_mode": {
    "name": "ipython",
    "version": 3
   },
   "file_extension": ".py",
   "mimetype": "text/x-python",
   "name": "python",
   "nbconvert_exporter": "python",
   "pygments_lexer": "ipython3",
   "version": "3.6.10"
  }
 },
 "nbformat": 4,
 "nbformat_minor": 2
}
