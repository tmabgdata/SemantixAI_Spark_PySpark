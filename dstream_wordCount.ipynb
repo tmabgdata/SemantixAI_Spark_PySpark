{
 "cells": [
  {
   "cell_type": "markdown",
   "metadata": {},
   "source": [
    "# Exercício DStream - Word Count"
   ]
  },
  {
   "cell_type": "markdown",
   "metadata": {},
   "source": [
    "#### 1. Criar o diretório no hdfs “/user/thiago/stream”"
   ]
  },
  {
   "cell_type": "code",
   "execution_count": 15,
   "metadata": {},
   "outputs": [
    {
     "name": "stdout",
     "output_type": "stream",
     "text": [
      "Found 18 items\r\n",
      "-rw-r--r--   3 root supergroup         46 2022-04-08 03:37 /user/thiago/data/README.md\r\n",
      "-rw-r--r--   3 root supergroup       2089 2022-04-08 03:37 /user/thiago/data/WordCount.java\r\n",
      "drwxr-xr-x   - root supergroup          0 2022-04-08 03:37 /user/thiago/data/beneficio\r\n",
      "drwxr-xr-x   - root supergroup          0 2022-04-08 03:38 /user/thiago/data/db-sql\r\n",
      "drwxr-xr-x   - root supergroup          0 2022-04-08 03:38 /user/thiago/data/economicFitness\r\n",
      "drwxr-xr-x   - root supergroup          0 2022-04-08 03:38 /user/thiago/data/empreendimento\r\n",
      "-rw-r--r--   3 root supergroup         54 2022-04-08 03:38 /user/thiago/data/entrada1.txt\r\n",
      "-rw-r--r--   3 root supergroup         42 2022-04-08 03:38 /user/thiago/data/entrada2.txt\r\n",
      "drwxr-xr-x   - root supergroup          0 2022-04-08 03:38 /user/thiago/data/escola\r\n",
      "drwxr-xr-x   - root supergroup          0 2022-04-08 03:38 /user/thiago/data/hnpStats\r\n",
      "drwxr-xr-x   - root supergroup          0 2022-04-08 03:38 /user/thiago/data/iris\r\n",
      "drwxr-xr-x   - root supergroup          0 2022-04-08 03:38 /user/thiago/data/juros_selic\r\n",
      "-rw-r--r--   3 root supergroup        161 2022-04-08 03:38 /user/thiago/data/map.py\r\n",
      "drwxr-xr-x   - root supergroup          0 2022-04-08 03:39 /user/thiago/data/names\r\n",
      "drwxr-xr-x   - root supergroup          0 2022-04-08 03:39 /user/thiago/data/namesbystate\r\n",
      "drwxr-xr-x   - root supergroup          0 2022-04-08 03:39 /user/thiago/data/ouvidoria\r\n",
      "drwxr-xr-x   - root supergroup          0 2022-04-08 03:39 /user/thiago/data/populacaoLA\r\n",
      "-rw-r--r--   3 root supergroup        511 2022-04-08 03:39 /user/thiago/data/reduce.py\r\n"
     ]
    }
   ],
   "source": [
    "!hdfs dfs -ls /user/thiago/data"
   ]
  },
  {
   "cell_type": "markdown",
   "metadata": {},
   "source": [
    "#### 2. Criar uma aplicação para contar palavras a cada 10 segundos da porta 9998 e exibir no console durante 50 segundos"
   ]
  },
  {
   "cell_type": "code",
   "execution_count": 3,
   "metadata": {},
   "outputs": [],
   "source": [
    "from pyspark import SparkContext\n",
    "from pyspark.streaming import StreamingContext\n",
    "from time import sleep"
   ]
  },
  {
   "cell_type": "code",
   "execution_count": 4,
   "metadata": {},
   "outputs": [],
   "source": [
    "conf = SparkConf().setMaster(\"local[*]\").setAppName(\"Dstream WordCount\")\n",
    "sc = SparkContext.getOrCreate(conf)\n",
    "ssc = StreamingContext(sc, 10)"
   ]
  },
  {
   "cell_type": "code",
   "execution_count": 5,
   "metadata": {},
   "outputs": [],
   "source": [
    "dstream = ssc.socketTextStream(\"localhost\", 9998)"
   ]
  },
  {
   "cell_type": "code",
   "execution_count": 6,
   "metadata": {},
   "outputs": [],
   "source": [
    "wordcount = dstream.flatMap(lambda linha: linha.split(\" \"))\\\n",
    "                   .map(lambda palavra: (palavra, 1))\\\n",
    "                   .reduceByKey(lambda chave1, chave2: chave1+chave2)\n",
    "wordcount.saveAsTextFiles(\"/user/thiago/stream/word_count\")"
   ]
  },
  {
   "cell_type": "code",
   "execution_count": 7,
   "metadata": {},
   "outputs": [
    {
     "data": {
      "text/plain": [
       "<bound method StreamingContext.stop of <pyspark.streaming.context.StreamingContext object at 0x7f2fc9f284e0>>"
      ]
     },
     "execution_count": 7,
     "metadata": {},
     "output_type": "execute_result"
    }
   ],
   "source": [
    "ssc.start()\n",
    "sleep(50)\n",
    "ssc.stop"
   ]
  },
  {
   "cell_type": "markdown",
   "metadata": {},
   "source": [
    "#### Criar uma aplicação para contar palavras a cada 10 segundos da porta 9998 e salvar os dados no namenode no diretório “hdfs://namenode/user/thiago/stream/word_count” durante 50 segundos"
   ]
  },
  {
   "cell_type": "code",
   "execution_count": 12,
   "metadata": {},
   "outputs": [],
   "source": [
    "## wordcount.saveAsTextFiles(\"hdfs://namenode:8020/user/thiago/stream/word_count\")"
   ]
  }
 ],
 "metadata": {
  "kernelspec": {
   "display_name": "PySpark",
   "language": "python",
   "name": "pyspark"
  },
  "language_info": {
   "codemirror_mode": {
    "name": "ipython",
    "version": 3
   },
   "file_extension": ".py",
   "mimetype": "text/x-python",
   "name": "python",
   "nbconvert_exporter": "python",
   "pygments_lexer": "ipython3",
   "version": "3.6.10"
  }
 },
 "nbformat": 4,
 "nbformat_minor": 2
}
